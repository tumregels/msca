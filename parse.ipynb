{
 "cells": [
  {
   "cell_type": "code",
   "execution_count": 73,
   "metadata": {},
   "outputs": [
    {
     "name": "stdout",
     "output_type": "stream",
     "text": [
      "['assertS.c2m',\n",
      " 'assertV.c2m',\n",
      " '_BURN_rowland.txt',\n",
      " 'CGN_PIN_A.result',\n",
      " 'code',\n",
      " 'DLIB_295',\n",
      " '_EDIT_rowland.txt',\n",
      " '_LIB_rowland.txt',\n",
      " 'PIN_FIG.ps',\n",
      " 'mydata.x2m']\n",
      "305336\n"
     ]
    }
   ],
   "source": [
    "import os\n",
    "import re\n",
    "from pprint import pprint\n",
    "\n",
    "path = '/home/legha/bin/Version5_ev1738/Dragon/Linux_x86_64/msca'\n",
    "pprint(os.listdir(path))\n",
    "\n",
    "import os.path as op\n",
    "with open(op.join(path, 'CGN_PIN_A.result')) as f:\n",
    "    long_str = f.read()\n",
    "\n",
    "len(long_str)\n",
    "print(len(long_str.splitlines()))"
   ]
  },
  {
   "cell_type": "code",
   "execution_count": 86,
   "metadata": {},
   "outputs": [
    {
     "name": "stdout",
     "output_type": "stream",
     "text": [
      "lineno start:8117   end:13070  text: >|BURNUP step 1 between  0.000000e+00 and  7.692308e-01 day:          \n",
      "lineno start:13071  end:18017  text: >|BURNUP step 2 between  7.692308e-01 and  1.282051e+00 day:          \n",
      "lineno start:18018  end:22963  text: >|BURNUP step 3 between  1.282051e+00 and  1.923077e+00 day:          \n",
      "lineno start:22964  end:27910  text: >|BURNUP step 4 between  1.923077e+00 and  3.846154e+00 day:          \n",
      "lineno start:27911  end:32863  text: >|BURNUP step 5 between  3.846154e+00 and  6.410256e+00 day:          \n",
      "lineno start:32864  end:37816  text: >|BURNUP step 6 between  6.410256e+00 and  1.282051e+01 day:          \n",
      "lineno start:37817  end:42769  text: >|BURNUP step 7 between  1.282051e+01 and  1.923077e+01 day:          \n",
      "lineno start:42770  end:47722  text: >|BURNUP step 8 between  1.923077e+01 and  2.564103e+01 day:          \n",
      "lineno start:47723  end:52677  text: >|BURNUP step 9 between  2.564103e+01 and  5.128205e+01 day:          \n",
      "lineno start:52678  end:57631  text: >|BURNUP step 10 between  5.128205e+01 and  6.410256e+01 day:         \n",
      "lineno start:57632  end:62585  text: >|BURNUP step 11 between  6.410256e+01 and  7.692308e+01 day:         \n",
      "lineno start:62586  end:67539  text: >|BURNUP step 12 between  7.692308e+01 and  8.974359e+01 day:         \n",
      "lineno start:67540  end:72493  text: >|BURNUP step 13 between  8.974359e+01 and  1.025641e+02 day:         \n",
      "lineno start:72494  end:77447  text: >|BURNUP step 14 between  1.025641e+02 and  1.153846e+02 day:         \n",
      "lineno start:77448  end:82401  text: >|BURNUP step 15 between  1.153846e+02 and  1.282051e+02 day:         \n",
      "lineno start:82402  end:87355  text: >|BURNUP step 16 between  1.282051e+02 and  1.410256e+02 day:         \n",
      "lineno start:87356  end:92309  text: >|BURNUP step 17 between  1.410256e+02 and  1.538462e+02 day:         \n",
      "lineno start:92310  end:97263  text: >|BURNUP step 18 between  1.538462e+02 and  1.666667e+02 day:         \n",
      "lineno start:97264  end:102217 text: >|BURNUP step 19 between  1.666667e+02 and  1.794872e+02 day:         \n",
      "lineno start:102218 end:107171 text: >|BURNUP step 20 between  1.794872e+02 and  1.923077e+02 day:         \n",
      "lineno start:107172 end:112125 text: >|BURNUP step 21 between  1.923077e+02 and  2.051282e+02 day:         \n",
      "lineno start:112126 end:117079 text: >|BURNUP step 22 between  2.051282e+02 and  2.179487e+02 day:         \n",
      "lineno start:117080 end:122033 text: >|BURNUP step 23 between  2.179487e+02 and  2.307692e+02 day:         \n",
      "lineno start:122034 end:126987 text: >|BURNUP step 24 between  2.307692e+02 and  2.435897e+02 day:         \n",
      "lineno start:126988 end:131941 text: >|BURNUP step 25 between  2.435897e+02 and  2.564102e+02 day:         \n",
      "lineno start:131942 end:136895 text: >|BURNUP step 26 between  2.564102e+02 and  2.820513e+02 day:         \n",
      "lineno start:136896 end:141849 text: >|BURNUP step 27 between  2.820513e+02 and  3.076923e+02 day:         \n",
      "lineno start:141850 end:146803 text: >|BURNUP step 28 between  3.076923e+02 and  3.333333e+02 day:         \n",
      "lineno start:146804 end:151757 text: >|BURNUP step 29 between  3.333333e+02 and  3.589744e+02 day:         \n",
      "lineno start:151758 end:156711 text: >|BURNUP step 30 between  3.589744e+02 and  3.846154e+02 day:         \n",
      "lineno start:156712 end:161665 text: >|BURNUP step 31 between  3.846154e+02 and  4.102564e+02 day:         \n",
      "lineno start:161666 end:166619 text: >|BURNUP step 32 between  4.102564e+02 and  4.358974e+02 day:         \n",
      "lineno start:166620 end:171573 text: >|BURNUP step 33 between  4.358974e+02 and  4.615385e+02 day:         \n",
      "lineno start:171574 end:176527 text: >|BURNUP step 34 between  4.615385e+02 and  4.871795e+02 day:         \n",
      "lineno start:176528 end:181481 text: >|BURNUP step 35 between  4.871795e+02 and  5.128205e+02 day:         \n",
      "lineno start:181482 end:186435 text: >|BURNUP step 36 between  5.128205e+02 and  5.641025e+02 day:         \n",
      "lineno start:186436 end:191389 text: >|BURNUP step 37 between  5.641025e+02 and  6.153846e+02 day:         \n",
      "lineno start:191390 end:196343 text: >|BURNUP step 38 between  6.153846e+02 and  6.666667e+02 day:         \n",
      "lineno start:196344 end:201297 text: >|BURNUP step 39 between  6.666667e+02 and  7.179487e+02 day:         \n",
      "lineno start:201298 end:206251 text: >|BURNUP step 40 between  7.179487e+02 and  7.692308e+02 day:         \n",
      "lineno start:206252 end:211204 text: >|BURNUP step 41 between  7.692308e+02 and  8.205128e+02 day:         \n",
      "lineno start:211205 end:216157 text: >|BURNUP step 42 between  8.205128e+02 and  8.717949e+02 day:         \n",
      "lineno start:216158 end:221110 text: >|BURNUP step 43 between  8.717949e+02 and  9.230769e+02 day:         \n",
      "lineno start:221111 end:226063 text: >|BURNUP step 44 between  9.230769e+02 and  9.743589e+02 day:         \n",
      "lineno start:226064 end:231016 text: >|BURNUP step 45 between  9.743589e+02 and  1.025641e+03 day:         \n",
      "lineno start:231017 end:235969 text: >|BURNUP step 46 between  1.025641e+03 and  1.076923e+03 day:         \n",
      "lineno start:235970 end:240922 text: >|BURNUP step 47 between  1.076923e+03 and  1.128205e+03 day:         \n",
      "lineno start:240923 end:245875 text: >|BURNUP step 48 between  1.128205e+03 and  1.179487e+03 day:         \n",
      "lineno start:245876 end:250828 text: >|BURNUP step 49 between  1.179487e+03 and  1.230769e+03 day:         \n",
      "lineno start:250829 end:255781 text: >|BURNUP step 50 between  1.230769e+03 and  1.282051e+03 day:         \n",
      "lineno start:255782 end:260734 text: >|BURNUP step 51 between  1.282051e+03 and  1.333333e+03 day:         \n",
      "lineno start:260735 end:265687 text: >|BURNUP step 52 between  1.333333e+03 and  1.384615e+03 day:         \n",
      "lineno start:265688 end:270640 text: >|BURNUP step 53 between  1.384615e+03 and  1.435897e+03 day:         \n",
      "lineno start:270641 end:275593 text: >|BURNUP step 54 between  1.435897e+03 and  1.487179e+03 day:         \n",
      "lineno start:275594 end:280546 text: >|BURNUP step 55 between  1.487179e+03 and  1.538462e+03 day:         \n",
      "lineno start:280547 end:285499 text: >|BURNUP step 56 between  1.538462e+03 and  1.589744e+03 day:         \n",
      "lineno start:285500 end:290452 text: >|BURNUP step 57 between  1.589744e+03 and  1.641026e+03 day:         \n",
      "lineno start:290453 end:295405 text: >|BURNUP step 58 between  1.641026e+03 and  1.692308e+03 day:         \n",
      "lineno start:295406 end:300358 text: >|BURNUP step 59 between  1.692308e+03 and  1.743590e+03 day:         \n",
      "lineno start:300359 end:305331 text: >|BURNUP step 60 between  1.743590e+03 and  1.794872e+03 day:         \n"
     ]
    }
   ],
   "source": [
    "import re\n",
    "\n",
    "end='.*\\n'\n",
    "line=[m.end() for m in re.finditer(end, long_str)]\n",
    "\n",
    "pattern = '>\\|(BURNUP step \\d+.*?)(?=>\\|BURNUP step|>\\|CGN_PIN_A completed)'\n",
    "match=re.compile(pattern, re.MULTILINE|re.DOTALL)\n",
    "for m in re.finditer(match, long_str):\n",
    "    lineno = next(i+1 for i in range(len(line)) if line[i]>m.start(1))\n",
    "    endno = lineno + len(m.group().splitlines()) - 1\n",
    "    text = m.group()[:70]\n",
    "    print(f'lineno start:{lineno: <6} end:{endno: <6} text: {text}')"
   ]
  },
  {
   "cell_type": "code",
   "execution_count": 58,
   "metadata": {},
   "outputs": [
    {
     "name": "stdout",
     "output_type": "stream",
     "text": [
      "['DLIB_295',\n",
      " 'CGN_PIN_A_short.result',\n",
      " 'PIN_FIG.ps',\n",
      " '_BURN_rowland.txt',\n",
      " '_LIB_rowland.txt',\n",
      " '_EDIT_rowland.txt']\n",
      "22886\n"
     ]
    }
   ],
   "source": []
  },
  {
   "cell_type": "code",
   "execution_count": 92,
   "metadata": {},
   "outputs": [
    {
     "name": "stdout",
     "output_type": "stream",
     "text": [
      "['DLIB_295',\n",
      " 'CGN_PIN_A_short.result',\n",
      " 'PIN_FIG.ps',\n",
      " '_BURN_rowland.txt',\n",
      " '_LIB_rowland.txt',\n",
      " '_EDIT_rowland.txt']\n",
      "22886\n",
      "start:7998   end:7998   text: >|STARTING WHILE                                                          \n",
      "start:8006   end:8006   text: >|BURNUP step 1 between  0.000000e+00 and  7.692308e-01 day:              \n",
      "start:8335   end:8335   text: >|StepAuto:  3.000000e+01 MWj/t                                           \n",
      "start:8336   end:8336   text: >|Self-shielding calculation 1 at  7.692308e-01 DAY:                      \n",
      "start:9565   end:9565   text: >|step2=  3.000000e+01 evoend=  7.692308e-01                              \n",
      "start:12914  end:12914  text: >|BURNUP:   3.000000e+01   <-> K-INFINITY :   1.055019e+00                \n",
      "start:12953  end:12953  text: >|THIS IS BEFORE STEP increase  1                                         \n",
      "start:12954  end:12954  text: >|THIS IS AFTER STEP increase  2                                          \n",
      "start:12955  end:12955  text: >|STARTING WHILE                                                          \n",
      "start:12963  end:12963  text: >|BURNUP step 2 between  7.692308e-01 and  1.282051e+00 day:              \n",
      "start:13292  end:13292  text: >|StepAuto:  5.000000e+01 MWj/t                                           \n",
      "start:13293  end:13293  text: >|Self-shielding calculation 2 at  1.282051e+00 DAY:                      \n",
      "start:14522  end:14522  text: >|step2=  5.000000e+01 evoend=  1.282051e+00                              \n",
      "start:17864  end:17864  text: >|BURNUP:   5.000000e+01   <-> K-INFINITY :   1.049796e+00                \n",
      "start:17903  end:17903  text: >|THIS IS BEFORE STEP increase  2                                         \n",
      "start:17904  end:17904  text: >|THIS IS AFTER STEP increase  3                                          \n",
      "start:17905  end:17905  text: >|STARTING WHILE                                                          \n",
      "start:17913  end:17913  text: >|BURNUP step 3 between  1.282051e+00 and  1.923077e+00 day:              \n",
      "start:18242  end:18242  text: >|StepAuto:  7.500000e+01 MWj/t                                           \n",
      "start:18243  end:18243  text: >|Self-shielding calculation 3 at  1.923077e+00 DAY:                      \n",
      "start:19472  end:19472  text: >|step2=  7.500000e+01 evoend=  1.923077e+00                              \n",
      "start:22813  end:22813  text: >|BURNUP:   7.500000e+01   <-> K-INFINITY :   1.047678e+00                \n",
      "start:22852  end:22852  text: >|THIS IS BEFORE STEP increase  3                                         \n",
      "start:22853  end:22853  text: >|THIS IS AFTER STEP increase  4                                          \n",
      "start:22854  end:22854  text: >|AFTER ENDWHILE                                                          \n",
      "start:22882  end:22882  text: >|CGN_PIN_A_SHORT completed                                               \n"
     ]
    }
   ],
   "source": [
    "import os\n",
    "import re\n",
    "from pprint import pprint\n",
    "\n",
    "path = '/home/legha/bin/Version5_ev1738/Dragon/msca/output_short'\n",
    "pprint(os.listdir(path))\n",
    "\n",
    "import os.path as op\n",
    "with open(op.join(path, 'CGN_PIN_A_short.result')) as f:\n",
    "    short_str = f.read()\n",
    "    \n",
    "print(len(short_str.splitlines()))\n",
    "\n",
    "def parse_echo(s : str)-> None:\n",
    "    end='.*\\n'\n",
    "    line=[m.end() for m in re.finditer(end, s)]\n",
    "\n",
    "    pattern = '>\\|(.*?)(?=\\|>\\d+)'\n",
    "    match=re.compile(pattern, re.MULTILINE|re.DOTALL)\n",
    "    for m in re.finditer(match, s):\n",
    "        lineno = next(i+1 for i in range(len(line)) if line[i]>m.start(1))\n",
    "        endno = lineno + len(m.group().splitlines()) - 1\n",
    "        text = m.group()\n",
    "        print(f'start:{lineno: <6} end:{endno: <6} text: {text}')\n",
    "        \n",
    "parse_echo(short_str)"
   ]
  },
  {
   "cell_type": "code",
   "execution_count": 65,
   "metadata": {},
   "outputs": [
    {
     "data": {
      "text/plain": [
       "'sss       '"
      ]
     },
     "execution_count": 65,
     "metadata": {},
     "output_type": "execute_result"
    }
   ],
   "source": [
    ">>> width=10\n",
    ">>> string = 'sss'\n",
    ">>> f'{string: <10}'"
   ]
  },
  {
   "cell_type": "code",
   "execution_count": null,
   "metadata": {},
   "outputs": [],
   "source": [
    "parse_echo(long_str)"
   ]
  },
  {
   "cell_type": "code",
   "execution_count": null,
   "metadata": {},
   "outputs": [],
   "source": []
  }
 ],
 "metadata": {
  "kernelspec": {
   "display_name": "Python 3",
   "language": "python",
   "name": "python3"
  },
  "language_info": {
   "codemirror_mode": {
    "name": "ipython",
    "version": 3
   },
   "file_extension": ".py",
   "mimetype": "text/x-python",
   "name": "python",
   "nbconvert_exporter": "python",
   "pygments_lexer": "ipython3",
   "version": "3.7.3"
  }
 },
 "nbformat": 4,
 "nbformat_minor": 2
}
