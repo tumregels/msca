{
 "cells": [
  {
   "cell_type": "markdown",
   "metadata": {},
   "source": [
    "## Compare the following information\n",
    "\n",
    "* Fission and capture reaction rate comparisons at each burnup step\n",
    "* Number density evolution for typical isotopes with burnup\n",
    "* Keff comparison at each burnup step (DRAGON+)\n",
    "* Fission map comparison at each burnup step "
   ]
  },
  {
   "cell_type": "code",
   "execution_count": null,
   "metadata": {},
   "outputs": [],
   "source": [
    "#%matplotlib inline\n",
    "import os\n",
    "import sys\n",
    "import re\n",
    "from pprint import pprint\n",
    "from decimal import Decimal\n",
    "import os.path as op\n",
    "from IPython.display import Image\n",
    "import matplotlib.pyplot as plt\n",
    "from typing import Iterator, Tuple, List, Dict\n",
    "from matplotlib.ticker import FormatStrFormatter, ScalarFormatter\n",
    "import contextlib\n",
    "import doctest\n",
    "\n",
    "with contextlib.redirect_stdout(None):\n",
    "  print(\"This won't print!\")"
   ]
  },
  {
   "cell_type": "code",
   "execution_count": null,
   "metadata": {},
   "outputs": [],
   "source": [
    "with open(op.join('CGN_PIN_A_SHORT.result')) as f:\n",
    "    long_str = f.read()\n",
    "\n",
    "with open(op.join('CGN_PIN_A_SHORT.result')) as f:\n",
    "    short_str = f.read()"
   ]
  },
  {
   "cell_type": "code",
   "execution_count": null,
   "metadata": {},
   "outputs": [],
   "source": [
    "len(short_str)"
   ]
  },
  {
   "cell_type": "code",
   "execution_count": null,
   "metadata": {},
   "outputs": [],
   "source": [
    "end='.*\\n'\n",
    "line=[m.end() for m in re.finditer(end, long_str)]\n",
    "\n",
    "with contextlib.redirect_stdout(sys.stdout):\n",
    "    pattern = '>\\|(BURNUP step \\d+.*?)(?=>\\|BURNUP step|>\\|CGN_PIN_A_SHORT completed)'\n",
    "    match=re.compile(pattern, re.MULTILINE|re.DOTALL)\n",
    "    for m in re.finditer(match, long_str):\n",
    "        lineno = next(i+1 for i in range(len(line)) if line[i]>m.start(1))\n",
    "        endno = lineno + len(m.group().splitlines()) - 1\n",
    "        text = m.group()[:70]\n",
    "        print(f'lineno start:{lineno: <6} end:{endno: <6} text: {text}')"
   ]
  },
  {
   "cell_type": "code",
   "execution_count": null,
   "metadata": {},
   "outputs": [],
   "source": [
    "def parse_echo(s : str)-> Iterator[str]:\n",
    "    \"\"\"\n",
    "    Parse ECHO statements from dragon 5 output\n",
    "    \n",
    "    >>> next(parse_echo('\\\\n>|BURNUP step 1 between  0.000000e+00 and  7.692308e-01 day:              |>0131\\\\n'))\n",
    "    'start:2      end:2      text: >|BURNUP step 1 between  0.000000e+00 and  7.692308e-01 day:              '\n",
    "    \"\"\"\n",
    "    \n",
    "    end='.*\\n'\n",
    "    line=[m.end() for m in re.finditer(end, s)]\n",
    "\n",
    "    pattern = '>\\|(.*?)(?=\\|>\\d+)'\n",
    "    match=re.compile(pattern, re.MULTILINE|re.DOTALL)\n",
    "    for m in re.finditer(match, s):\n",
    "        lineno = next(i+1 for i in range(len(line)) if line[i]>m.start(1))\n",
    "        endno = lineno + len(m.group().splitlines()) - 1\n",
    "        text = m.group()\n",
    "        yield f'start:{lineno: <6} end:{endno: <6} text: {text}'\n",
    "    else:\n",
    "        yield ''\n",
    "        \n",
    "for i in parse_echo(short_str): print(i)\n",
    "doctest.testmod()"
   ]
  },
  {
   "cell_type": "code",
   "execution_count": null,
   "metadata": {},
   "outputs": [],
   "source": [
    "def parse_burnup_vs_kinf(s: str, debug: bool = False)-> List[Tuple[Decimal, Decimal]]:\n",
    "    \"\"\"\n",
    "    Parse ECHO dragon statement to extract values for BURNUP and K-INFINITY\n",
    "    \n",
    "    >>> s = '\\\\n>|BURNUP:   3.000000e+01   <-> K-INFINITY :   1.055019e+00                |>0173\\\\n'\n",
    "    >>> parse_burnup_vs_kinf(s)\n",
    "    [(Decimal('30.00000'), Decimal('1.055019'))]\n",
    "    \"\"\"\n",
    "    \n",
    "    end='.*\\n'\n",
    "    line=[m.end() for m in re.finditer(end, s)]\n",
    "    \n",
    "    burn_vs_kinf = [] # save burnup vs kinf in list\n",
    "\n",
    "    pattern = r'''>\\|(BURNUP:(?P<burnup>.*?)<-> K-INFINITY :(?P<kinf>.*?))(?=\\|>\\d+)'''\n",
    "    match=re.compile(pattern, re.MULTILINE | re.DOTALL)\n",
    "    for m in re.finditer(match, s):\n",
    "        lineno = next(i+1 for i in range(len(line)) if line[i]>m.start(1))\n",
    "        endno = lineno + len(m.group().splitlines()) - 1\n",
    "        text = m.group()\n",
    "        burnup = Decimal(m.group(\"burnup\").strip())\n",
    "        kinf = Decimal(m.group(\"kinf\").strip())\n",
    "        print(f'''start:{lineno: <6} end:{endno: <6} burnup: {float(burnup)} kinf: {float(kinf)} text: {text}''') if debug else None\n",
    "        burn_vs_kinf.append((burnup, kinf))\n",
    "        \n",
    "    return burn_vs_kinf\n",
    "\n",
    "doctest.testmod()"
   ]
  },
  {
   "cell_type": "code",
   "execution_count": null,
   "metadata": {},
   "outputs": [],
   "source": [
    "burnup_vs_kinf = parse_burnup_vs_kinf(short_str, debug=True)"
   ]
  },
  {
   "cell_type": "code",
   "execution_count": null,
   "metadata": {},
   "outputs": [],
   "source": [
    "def plot_burnup_vs_kinf(data: List[Tuple[Decimal, Decimal]])-> Image:\n",
    "    x_val = [x[0]/1000 for x in data]\n",
    "    y_val = [x[1] for x in data]\n",
    "    \n",
    "    fig = plt.figure()\n",
    "    plt.grid()\n",
    "    plt.plot(x_val,y_val)\n",
    "    plt.plot(x_val,y_val,'or')\n",
    "    plt.suptitle('$k_{inf} \\ vs \\ Burnup$', fontsize=12)\n",
    "    plt.xlabel(r'$Burnup \\ \\frac{MWd}{kgU}$', fontsize=12)\n",
    "    plt.ylabel(r'$Multiplication \\ factor \\ k_{inf}$', fontsize=12)\n",
    "    filename = 'kinf_vs_burnup.png'\n",
    "    plt.savefig(filename, dpi=300, bbox_inches=\"tight\")\n",
    "    #plt.show()\n",
    "    plt.close(fig)\n",
    "    return Image(filename, width=600, height=600)\n",
    "\n",
    "\n",
    "burnup_vs_kinf = parse_burnup_vs_kinf(long_str)\n",
    "plot_burnup_vs_kinf(data=burnup_vs_kinf)"
   ]
  },
  {
   "cell_type": "code",
   "execution_count": null,
   "metadata": {
    "scrolled": true
   },
   "outputs": [],
   "source": [
    "def get_burnup_step_data(s: str, debug: bool = False) -> Iterator[Tuple[str, str]]:\n",
    "    end='.*\\n'\n",
    "    line=[m.end() for m in re.finditer(end, s)]\n",
    "\n",
    "    pattern = '>\\|(BURNUP step (?P<step>\\d+).*?)(?=>\\|BURNUP step|>\\|CGN_PIN_A completed)'\n",
    "    match=re.compile(pattern, re.MULTILINE|re.DOTALL)\n",
    "    for m in re.finditer(match, s):\n",
    "        lineno = next(i+1 for i in range(len(line)) if line[i]>m.start(1))\n",
    "        endno = lineno + len(m.group().splitlines()) - 1\n",
    "        text = m.group()\n",
    "        step = m.group('step')\n",
    "        print(f'lineno start:{lineno: <6} end:{endno: <6} step: {step} text: {text[:70]}') if debug else None\n",
    "        yield step, text\n",
    "        \n",
    "for step, text in get_burnup_step_data(long_str, debug=True):\n",
    "    print(step)\n",
    "    print(text[:200])\n",
    "    \n",
    "    #parse_burnup_vs_kinf(text)\n",
    "    break\n",
    "with open('burnup_step_text.txt', 'w') as f:\n",
    "    f.write(text)"
   ]
  },
  {
   "cell_type": "code",
   "execution_count": null,
   "metadata": {},
   "outputs": [],
   "source": [
    "def get_iso_density_per_ring(s: str, debug: bool = False) -> List[Tuple[str, str, Decimal]]:\n",
    "    iso_data = []\n",
    "    for iso in ['Pu239', 'U235', 'Pu241']:\n",
    "        pattern = (\n",
    "            '(?<=ISOTOPIC DENSITIES AFTER BURNUP FOR MIXTURE =)\\s+?(?P<ring>\\d+)\\s\\(10\\*\\*24 PARTICLES/CC\\)' # look behind and find ISOTOPIC DENSITIES string\n",
    "            '.*?' # some data\n",
    "            f'{iso}\\s+:[\\s=]+(?P<density>[+-]?(?:0|[1-9]\\d*)(?:\\.\\d*)?(?:[eE][+\\-]?\\d+))' # iso name followed by : and float number\n",
    "        )\n",
    "        prog = re.compile(pattern, re.MULTILINE | re.DOTALL)\n",
    "        for m in re.finditer(prog, s):\n",
    "            ring = m.group('ring')\n",
    "            density = Decimal(m.group('density'))\n",
    "            # print(m.group())\n",
    "            print(f'iso: {iso: <5} ring: {ring: <2} dens: {density: <10}') if debug else None\n",
    "            iso_data.append((iso, ring, density))\n",
    "    return iso_data\n"
   ]
  },
  {
   "cell_type": "code",
   "execution_count": null,
   "metadata": {},
   "outputs": [],
   "source": [
    "def get_iso_dens_vs_burnup(s: str, debug: bool = False) -> Dict[Decimal, List[Tuple[str, str, Decimal]]]:\n",
    "    iso_dens_vs_burnup = {}\n",
    "    for burnup_step, burnup_step_text in get_burnup_step_data(long_str, debug=debug):\n",
    "        print(burnup_step, burnup_step_text[:70] + '...') if debug else None\n",
    "        iso_data = get_iso_density_per_ring(burnup_step_text, debug=debug)\n",
    "        burnup_value = parse_burnup_vs_kinf(burnup_step_text, debug=debug)[0][0]\n",
    "        print(f'burnup_step: {burnup_step} burnup_value: {burnup_value} iso_data: {iso_data}') if debug else None\n",
    "        iso_dens_vs_burnup[burnup_value] = iso_data\n",
    "    return iso_dens_vs_burnup\n",
    "\n",
    "iso_dens_vs_burnup = get_iso_dens_vs_burnup(short_str, debug=False)"
   ]
  },
  {
   "cell_type": "code",
   "execution_count": null,
   "metadata": {},
   "outputs": [],
   "source": [
    "def plot_atomic_dens_vs_burnup(d: Dict[Decimal, List[Tuple[str, str, Decimal]]]) -> Image:\n",
    "    burnup = [ k/1000 for k in iso_dens_vs_burnup.keys()]\n",
    "    pu239 = [v[0][2] for _, v in iso_dens_vs_burnup.items() if v[0][0]=='Pu239']\n",
    "    u235 = [v[4][2] for _, v in iso_dens_vs_burnup.items() if v[4][0]=='U235']\n",
    "    pu241 = [v[8][2] for _, v in iso_dens_vs_burnup.items() if v[8][0]=='Pu241']\n",
    "    \n",
    "    fig = plt.figure()\n",
    "    plt.plot(burnup,u235, label='U235', linestyle=':', color='r', linewidth=3) # dotted\n",
    "    plt.plot(burnup,pu239, label='Pu239', linestyle='--', color='b', linewidth=3) # dashed\n",
    "    plt.plot(burnup,pu241, label='Pu241', linestyle='-.', color='y', linewidth=3) # dashdot\n",
    "    plt.legend(loc='upper right')\n",
    "    plt.grid()\n",
    "    plt.gca().yaxis.set_major_formatter(ScalarFormatter(useOffset=True))\n",
    "    plt.ticklabel_format(axis='y', style='sci', scilimits=(-2,2))\n",
    "    plt.suptitle('Atomic density vs burnup', fontsize=12)\n",
    "    plt.xlabel(r'$Burnup \\ \\frac{MWd}{kgU}$', fontsize=12)\n",
    "    plt.ylabel(r'$Atomic \\ density \\ 10^{24}/cc$', fontsize=12)\n",
    "    filename = 'atomic_dens_vs_burnup.png'\n",
    "    plt.savefig(filename, dpi=300, bbox_inches=\"tight\")\n",
    "    # plt.show()\n",
    "    plt.close(fig)\n",
    "    return Image(filename, width=500, height=500)\n",
    "   \n",
    "plot_atomic_dens_vs_burnup(d=iso_dens_vs_burnup)"
   ]
  },
  {
   "cell_type": "code",
   "execution_count": null,
   "metadata": {},
   "outputs": [],
   "source": [
    "import sys\n",
    "import os.path as op\n",
    "\n",
    "\n",
    "def convert_view_execute()-> None:\n",
    "    jupyter = op.join(op.abspath(op.dirname((sys.executable))), 'jupyter')\n",
    "    get_ipython().system(f'{jupyter} nbconvert parse.ipynb --to python')\n",
    "    get_ipython().system('cat parse.py')\n",
    "    # get_ipython().run_line_magic('run', 'parse.py')\n",
    "\n",
    "# convert_view_execute()"
   ]
  },
  {
   "cell_type": "code",
   "execution_count": null,
   "metadata": {},
   "outputs": [],
   "source": [
    "def check_mypy()-> None:\n",
    "    get_ipython().system('jupyter nbconvert parse.ipynb --to python')\n",
    "    get_ipython().system('mypy parse.py')\n",
    "check_mypy()"
   ]
  },
  {
   "cell_type": "code",
   "execution_count": null,
   "metadata": {
    "scrolled": true
   },
   "outputs": [],
   "source": [
    "count = 0\n",
    "with open('_BURN_rowland.txt') as f:\n",
    "    for i, line in enumerate(f):\n",
    "        if re.match('^[A-Za-z]+.*', line):\n",
    "            if 'DEPL-DAT' in line:\n",
    "                print(i, line, end='')\n",
    "            break"
   ]
  },
  {
   "cell_type": "code",
   "execution_count": null,
   "metadata": {},
   "outputs": [],
   "source": [
    "count = 0\n",
    "with open('burnup_rowland_analyses.txt', 'w') as g:\n",
    "    with open('_BURN_rowland.txt') as f:\n",
    "        i = 1\n",
    "        for line in f:\n",
    "            i +=1\n",
    "            if re.match('(^[A-Za-z\\-0-9]+\\s+$|^->.*?<-).*?$', line):\n",
    "                print(f'{i: >7} {line.strip()}')\n",
    "                g.write(f'{i: >7} {line.strip()}\\n')"
   ]
  },
  {
   "cell_type": "code",
   "execution_count": null,
   "metadata": {
    "scrolled": true
   },
   "outputs": [],
   "source": [
    "count = 0\n",
    "with open('edit_rowland_analyses.txt', 'w') as g:\n",
    "    with open('_EDIT_rowland.txt') as f:\n",
    "        i = 1\n",
    "        for line in f:\n",
    "            i +=1\n",
    "            if re.match('(^[A-Za-z\\-0-9]+\\s+$|^->.*?<-).*?$', line):\n",
    "                print(f'{i: >7} {line.strip()}')\n",
    "                g.write(f'{i: >7} {line.strip()}\\n')"
   ]
  },
  {
   "cell_type": "code",
   "execution_count": null,
   "metadata": {
    "scrolled": true
   },
   "outputs": [],
   "source": [
    "count = 0\n",
    "with open('lib_rowland_analyses.txt', 'w') as g:\n",
    "    with open('_LIB_rowland.txt') as f:\n",
    "        i = 1\n",
    "        for line in f:\n",
    "            i +=1\n",
    "            if re.match('(^[A-Za-z\\-0-9]+\\s+$|^->.*?<-).*?$', line):\n",
    "                print(f'{i: >7} {line.strip()}')\n",
    "                g.write(f'{i: >7} {line.strip()}\\n')"
   ]
  }
 ],
 "metadata": {
  "kernelspec": {
   "display_name": "Python 3",
   "language": "python",
   "name": "python3"
  },
  "language_info": {
   "codemirror_mode": {
    "name": "ipython",
    "version": 3
   },
   "file_extension": ".py",
   "mimetype": "text/x-python",
   "name": "python",
   "nbconvert_exporter": "python",
   "pygments_lexer": "ipython3",
   "version": "3.7.3"
  }
 },
 "nbformat": 4,
 "nbformat_minor": 4
}
