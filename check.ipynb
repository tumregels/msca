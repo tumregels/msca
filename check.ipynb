{
 "cells": [
  {
   "cell_type": "code",
   "execution_count": null,
   "metadata": {},
   "outputs": [],
   "source": [
    "4.3107E-2 * "
   ]
  },
  {
   "cell_type": "code",
   "execution_count": 1,
   "metadata": {},
   "outputs": [
    {
     "data": {
      "text/plain": [
       "1.0"
      ]
     },
     "execution_count": 1,
     "metadata": {},
     "output_type": "execute_result"
    }
   ],
   "source": [
    "51.45E-02 + 11.22E-02 + 17.15E-02 + 17.38E-02 + 2.80E-02"
   ]
  },
  {
   "cell_type": "code",
   "execution_count": 1,
   "metadata": {},
   "outputs": [
    {
     "name": "stdout",
     "output_type": "stream",
     "text": [
      "N_Zr90: 2.21786E-02\n",
      "N_Zr91: 4.83661E-03\n"
     ]
    }
   ],
   "source": [
    "N_Zr0 = 4.3107E-2\n",
    "P_Zr90 = 51.45E-02\n",
    "P_Zr91 = 11.22E-02\n",
    "N_Zr90 = N_Zr0 * P_Zr90\n",
    "N_Zr91 = N_Zr0 * P_Zr91\n",
    "\n",
    "print(f'N_Zr90: {N_Zr90:10.5E}')\n",
    "print(f'N_Zr91: {N_Zr91:10.5E}')"
   ]
  },
  {
   "cell_type": "code",
   "execution_count": null,
   "metadata": {},
   "outputs": [],
   "source": [
    "REAL P_Zr90     P_Zr91     P_Zr92    P_Zr94    P_Zr96    :=\n",
    "     51.45E-02  11.22E-02  17.15E-02 17.38E-02 2.80E-02  ;"
   ]
  },
  {
   "cell_type": "code",
   "execution_count": 6,
   "metadata": {},
   "outputs": [
    {
     "data": {
      "text/plain": [
       "0.412"
      ]
     },
     "execution_count": 6,
     "metadata": {},
     "output_type": "execute_result"
    }
   ],
   "source": [
    "0.824/2"
   ]
  },
  {
   "cell_type": "code",
   "execution_count": null,
   "metadata": {},
   "outputs": [],
   "source": [
    "# fuel pellet "
   ]
  },
  {
   "cell_type": "code",
   "execution_count": 4,
   "metadata": {
    "scrolled": true
   },
   "outputs": [
    {
     "name": "stdout",
     "output_type": "stream",
     "text": [
      "/home/legha/bin/Version5_ev1738/Dragon/bin/Linux_x86_64/Dragon\n",
      "process id 16838\n"
     ]
    },
    {
     "data": {
      "text/plain": [
       "16838"
      ]
     },
     "execution_count": 4,
     "metadata": {},
     "output_type": "execute_result"
    }
   ],
   "source": [
    "#!/home/legha/bin/miniconda3/envs/jupyter/bin/python3\n",
    "import os\n",
    "import os.path as op\n",
    "import sys\n",
    "import os\n",
    "import stat\n",
    "import subprocess\n",
    "import shutil\n",
    "import glob\n",
    "\n",
    "\n",
    "class Config(object):\n",
    "    CWD = os.getcwd()\n",
    "    OUTPUT_DIR = op.join(CWD, \"output\")\n",
    "    LIB_DIR = op.join(CWD, os.pardir, os.pardir, os.pardir, \"libraries/l_endian\")\n",
    "    LIB_FILE = op.abspath(op.join(LIB_DIR, \"draglibJeff3p1p1SHEM295\"))\n",
    "    LIB_SYMLINK = op.join(OUTPUT_DIR, \"DLIB_295\")\n",
    "    DRAGON_EXE = op.abspath(op.join(CWD, os.pardir, \"bin/Linux_x86_64/Dragon\"))\n",
    "    DRAGON_INPUT_FILE = op.join(CWD, \"CGN_PIN_A.x2m\")\n",
    "    DRAGON_OUTPUT_FILE = op.join(OUTPUT_DIR, \"CGN_PIN_A.result\")\n",
    "\n",
    "\n",
    "# create output directory if missing\n",
    "os.makedirs(Config.OUTPUT_DIR, exist_ok=True)\n",
    "\n",
    "# cleanup previous calculation results\n",
    "files = glob.glob(os.path.join(Config.OUTPUT_DIR, \"*\"))\n",
    "for f in files:\n",
    "    os.remove(f)\n",
    "\n",
    "# remove old symlink and create new one\n",
    "if os.path.isfile(Config.LIB_SYMLINK):\n",
    "    os.remove(Config.LIB_SYMLINK)\n",
    "\n",
    "try:\n",
    "    os.symlink(Config.LIB_FILE, Config.LIB_SYMLINK)\n",
    "except FileExistsError:\n",
    "    pass\n",
    "\n",
    "# check all paths/files exist\n",
    "assert os.path.isdir(Config.LIB_DIR) == True, \"library directory missing\"\n",
    "assert os.path.isfile(Config.LIB_FILE) == True, \"library file is missing\"\n",
    "assert os.path.isfile(Config.LIB_SYMLINK) == True, \"symlink is missing\"\n",
    "assert os.path.isfile(Config.DRAGON_INPUT_FILE) == True, \"dragon input file is missing\"\n",
    "assert os.path.isfile(Config.DRAGON_EXE) == True, \"dragon exe is missing\"\n",
    "\n",
    "\n",
    "def execute(background=False):\n",
    "    \"\"\"\n",
    "    run $ dragon_exe < file.in > file.out\n",
    "    \"\"\"\n",
    "    input_ = open(Config.DRAGON_INPUT_FILE)\n",
    "    output_ = open(Config.DRAGON_OUTPUT_FILE, 'w')\n",
    "\n",
    "    if background:\n",
    "        p = subprocess.Popen(\n",
    "            Config.DRAGON_EXE, \n",
    "            stdin=input_, \n",
    "            stdout=output_, \n",
    "            cwd=Config.OUTPUT_DIR\n",
    "        )\n",
    "        print(\"process id {}\".format(p.pid))\n",
    "        return p.pid\n",
    "    else:\n",
    "        p = subprocess.Popen(\n",
    "            Config.DRAGON_EXE,\n",
    "            stdout=subprocess.PIPE,\n",
    "            stdin=input_,\n",
    "            bufsize=1,\n",
    "            universal_newlines=True,\n",
    "            cwd=Config.OUTPUT_DIR\n",
    "        )\n",
    "        for line in p.stdout:\n",
    "            output_.write(line)\n",
    "            print(line, end=\"\")\n",
    "            sys.stdout.flush()\n",
    "\n",
    "        if p.returncode != 0:\n",
    "            raise subprocess.CalledProcessError(p.returncode, p.args)\n",
    "        return p.returncode\n",
    "        \n",
    "        \n",
    "execute(background=True)"
   ]
  },
  {
   "cell_type": "code",
   "execution_count": 13,
   "metadata": {},
   "outputs": [],
   "source": [
    "import os\n",
    "import signal\n",
    "\n",
    "os.kill(16773, signal.SIGTERM) #or signal.SIGKILL "
   ]
  },
  {
   "cell_type": "code",
   "execution_count": null,
   "metadata": {},
   "outputs": [],
   "source": [
    "!kill -9 16728"
   ]
  },
  {
   "cell_type": "code",
   "execution_count": 3,
   "metadata": {},
   "outputs": [
    {
     "name": "stdout",
     "output_type": "stream",
     "text": [
      " USSIST: GROUP=  113. SUBGROUP ITERATION CONVERGENCE IN   1 ITERATIONS. ISOTOPE='U238    0001'.\r\n",
      " USSIST: GROUP=  114. SUBGROUP ITERATION CONVERGENCE IN   1 ITERATIONS. ISOTOPE='U238    0001'.\r\n",
      " USSIST: GROUP=  115. SUBGROUP ITERATION CONVERGENCE IN   1 ITERATIONS. ISOTOPE='U238    0001'.\r\n",
      " USSIST: GROUP=  116. SUBGROUP ITERATION CONVERGENCE IN   1 ITERATIONS. ISOTOPE='U238    0001'.\r\n",
      " USSIST: GROUP=  117. SUBGROUP ITERATION CONVERGENCE IN   1 ITERATIONS. ISOTOPE='U238    0001'.\r\n",
      " USSIST: GROUP=  118. SUBGROUP ITERATION CONVERGENCE IN   1 ITERATIONS. ISOTOPE='U238    0001'.\r\n",
      " USSIST: GROUP=  119. SUBGROUP ITERATION CONVERGENCE IN   1 ITERATIONS. ISOTOPE='U238    0001'.\r\n",
      " USSIST: GROUP=  120. SUBGROUP ITERATION CONVERGENCE IN   1 ITERATIONS. ISOTOPE='U238    0001'.\r\n",
      " USSIST: GROUP=  121. SUBGROUP ITERATION CONVERGENCE IN   1 ITERATIONS. ISOTOPE='U238    0001'.\r\n",
      " USSIST: GROUP=  122. SUBGROUP ITERATION CONVERGENCE IN   1 ITERATIONS. ISOTOPE='U238    0001'.\r\n"
     ]
    }
   ],
   "source": [
    "!tail output/CGN_PIN_A.result"
   ]
  },
  {
   "cell_type": "code",
   "execution_count": null,
   "metadata": {},
   "outputs": [],
   "source": []
  }
 ],
 "metadata": {
  "kernelspec": {
   "display_name": "Python 3",
   "language": "python",
   "name": "python3"
  },
  "language_info": {
   "codemirror_mode": {
    "name": "ipython",
    "version": 3
   },
   "file_extension": ".py",
   "mimetype": "text/x-python",
   "name": "python",
   "nbconvert_exporter": "python",
   "pygments_lexer": "ipython3",
   "version": "3.7.3"
  }
 },
 "nbformat": 4,
 "nbformat_minor": 2
}
